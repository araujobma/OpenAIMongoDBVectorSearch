{
 "cells": [
  {
   "cell_type": "code",
   "execution_count": null,
   "id": "ba7658d2-a072-4198-a85f-132761fc40cd",
   "metadata": {},
   "outputs": [],
   "source": [
    "!pip install -q -U openai \"pymongo[srv]\""
   ]
  },
  {
   "cell_type": "code",
   "execution_count": null,
   "id": "751c6ef2-a086-411e-85b6-81446f813cc8",
   "metadata": {},
   "outputs": [],
   "source": [
    "from openai import OpenAI\n",
    "openai_client = OpenAI()\n",
    "\n",
    "def get_embedding(texts, model=\"text-embedding-3-small\"):\n",
    "    texts = map(lambda t: t.replace(\"\\n\", \" \"), texts)\n",
    "    return openai_client.embeddings.create(input=texts, model=model, dimensions=512).data\n",
    "\n"
   ]
  },
  {
   "cell_type": "code",
   "execution_count": null,
   "id": "31894445-5720-4fbc-82ce-361c9a2a0e7b",
   "metadata": {},
   "outputs": [],
   "source": [
    "from pymongo import MongoClient\n",
    "from pymongo.server_api import ServerApi\n",
    "import os\n",
    "mongo_client = MongoClient(os.environ[\"MONGODB_CONNECTION_STRING\"], server_api=ServerApi('1'))\n",
    "try:\n",
    "    mongo_client.admin.command('ping')\n",
    "    print(\"Pinged your deployment. You successfully connected to MongoDB!\")\n",
    "    \n",
    "except Exception as e:\n",
    "    print(e)"
   ]
  },
  {
   "cell_type": "code",
   "execution_count": null,
   "id": "a2050814-c9dc-47a1-a02e-25954f56221d",
   "metadata": {},
   "outputs": [],
   "source": [
    "db = mongo_client[\"amazon_food_reviews\"]\n",
    "afr_collection= db[\"amazon_food_reviews\"]"
   ]
  },
  {
   "cell_type": "markdown",
   "id": "58d20b15-fe3a-49ab-85db-6d9a155718f2",
   "metadata": {},
   "source": [
    "link to reviews https://www.kaggle.com/datasets/snap/amazon-fine-food-reviews"
   ]
  },
  {
   "cell_type": "code",
   "execution_count": null,
   "id": "0e387e06-e5be-456d-ab5e-7fa125c75cc1",
   "metadata": {},
   "outputs": [],
   "source": [
    "#\n",
    "\n",
    "# import random\n",
    "\n",
    "# import csv\n",
    "# with open('Reviews.csv', 'r') as f:\n",
    "#      i = 0\n",
    "#      arr = []        \n",
    "#      arr_size = 0   \n",
    "#      reader = csv.DictReader(f)\n",
    "#      sample = set(random.sample([x for x in range(0,560000)], 10000))\n",
    "#      print(\"Sample length: \", len(sample))     \n",
    "#      for r in reader:\n",
    "#          i += 1\n",
    "#          if i % 10000 == 0:\n",
    "#              print(\"lines read: \" , i)\n",
    "#          if i in sample:\n",
    "#              arr.append(r)\n",
    "#              arr_size += 1\n",
    "#              if arr_size >= 100:\n",
    "#                  arr_emb = get_embedding([r[\"Summary\"] + ' ' +r[\"Text\"] for r in arr])\n",
    "#                  arr = [ a | {\"summary_text_embedding\": arr_emb[idx].embedding} for idx, a in enumerate(arr)]\n",
    "#                  afr_collection.insert_many(arr)\n",
    "#                  arr = []\n",
    "#                  arr_size = 0\n",
    "              \n",
    "             \n",
    "             "
   ]
  },
  {
   "cell_type": "code",
   "execution_count": null,
   "id": "bf20fd34-6862-45b2-8649-6e3755c7508d",
   "metadata": {},
   "outputs": [],
   "source": [
    "afr_collection.count_documents({})"
   ]
  },
  {
   "cell_type": "code",
   "execution_count": null,
   "id": "a2ee6bb4-3789-487a-97ea-9135c76f0cae",
   "metadata": {},
   "outputs": [],
   "source": [
    "#Could only set the index at Atlas web interface creating a free cluster\n",
    "\n",
    "# from pymongo.operations import SearchIndexModel\n",
    "\n",
    "# search_model = SearchIndexModel(\n",
    "#     definition={\n",
    "#         \"fields\": [\n",
    "#             {\n",
    "#               \"type\": \"vector\",\n",
    "#               \"path\": \"summary_text_embedding\",\n",
    "#               \"numDimensions\": 512,\n",
    "#               \"similarity\": \"dotProduct\"\n",
    "#             },\n",
    "#             {\n",
    "#               \"type\": \"filter\",\n",
    "#               \"path\": \"ProductId\"\n",
    "#             },\n",
    "#             {\n",
    "#               \"type\": \"filter\",\n",
    "#               \"path\": \"Score\"\n",
    "#             },\n",
    "#             {\n",
    "#               \"type\": \"filter\",\n",
    "#               \"path\": \"Time\"\n",
    "#             }\n",
    "             \n",
    "#        ]\n",
    "#    },\n",
    "#    name=\"summary_text_embedding_search_vector_index\",\n",
    "#    type=\"vectorSearch\" \n",
    "# )\n",
    "\n",
    "# afr_collection.create_search_index(search_model)"
   ]
  },
  {
   "cell_type": "code",
   "execution_count": null,
   "id": "e174f9a5-8a68-492d-ad3e-95d33f6d19e3",
   "metadata": {},
   "outputs": [],
   "source": [
    "query_embedding = get_embedding([\"pets food\"])[0].embedding\n",
    "print(len(query_embedding))\n",
    "\n"
   ]
  },
  {
   "cell_type": "code",
   "execution_count": null,
   "id": "925899ed-11e8-4ba4-9de6-e13e42f4f835",
   "metadata": {},
   "outputs": [],
   "source": [
    "pipeline = [\n",
    "  {\n",
    "    '$vectorSearch': {\n",
    "      'index': 'summary_text_embedding_vector_index', \n",
    "      'path': 'summary_text_embedding', \n",
    "      'queryVector': query_embedding, \n",
    "      'numCandidates': 150, \n",
    "      'limit': 3,\n",
    "      \"filter\": {'Score': '5'}  \n",
    "    }\n",
    "  }, {\n",
    "    '$project': {\n",
    "      '_id': 0, \n",
    "      'Summary': 1, \n",
    "      'Text': 1, \n",
    "      'score': {\n",
    "        '$meta': 'vectorSearchScore'\n",
    "      }\n",
    "    }\n",
    "  }\n",
    "]"
   ]
  },
  {
   "cell_type": "code",
   "execution_count": null,
   "id": "5bcdc520-890f-4c87-9dab-9033f18753ef",
   "metadata": {},
   "outputs": [],
   "source": [
    "result = afr_collection.aggregate(pipeline)\n",
    "# print results\n",
    "for i in result:\n",
    "    print(i)"
   ]
  },
  {
   "cell_type": "markdown",
   "id": "47de1e3e-cfdc-417b-971c-6abb345fa306",
   "metadata": {},
   "source": [
    "### The search is returning two equals text. Let's use max marginal relevance to get results with some more diversification avoiding repetitions"
   ]
  },
  {
   "cell_type": "code",
   "execution_count": null,
   "id": "76f08294-8a61-48af-b137-f74ac4c7abe3",
   "metadata": {},
   "outputs": [],
   "source": [
    "!pip install -q langchain_community langchain-mongodb tiktoken\n"
   ]
  },
  {
   "cell_type": "code",
   "execution_count": null,
   "id": "1697c87b-f84b-4088-a9fa-ba1fd7d90f62",
   "metadata": {},
   "outputs": [],
   "source": [
    "from langchain_mongodb.vectorstores import MongoDBAtlasVectorSearch\n",
    "from langchain_community.embeddings.openai import OpenAIEmbeddings\n",
    "\n",
    "embedding_model = OpenAIEmbeddings(model=\"text-embedding-3-small\", dimensions=512)\n",
    "vectorstore = MongoDBAtlasVectorSearch(\n",
    "    afr_collection,\n",
    "    embedding_model,\n",
    "    text_key='Text',\n",
    "    embedding_key='summary_text_embedding',\n",
    "    index_name='summary_text_embedding_vector_index',\n",
    "    relevance_score_fn='dotProduct',\n",
    "    \n",
    "    \n",
    ")"
   ]
  },
  {
   "cell_type": "code",
   "execution_count": null,
   "id": "516000fb-ec40-4e54-b4a7-4b30b3a5eb0b",
   "metadata": {},
   "outputs": [],
   "source": [
    "query = \"pets food\""
   ]
  },
  {
   "cell_type": "code",
   "execution_count": null,
   "id": "e5a219c9-f756-44aa-9b6a-9b8a6636ec31",
   "metadata": {},
   "outputs": [],
   "source": [
    "#If you don't project Text(our page content), score and summary_text_embedding(our embeddings field)\n",
    "# this is not going to work. All other fields are not mandatory in projection\n",
    "responses = vectorstore.max_marginal_relevance_search(\n",
    "    query,\n",
    "    k=3,\n",
    "    fetch_k=20,\n",
    "    lambda_mult=0.5,\n",
    "    pre_filter={'Score': '5'},\n",
    "    post_filter_pipeline=[\n",
    "        {'$project': {'_id': 0, 'Summary': 1, 'Text': 1, 'score': 1, 'summary_text_embedding': 1}}\n",
    "    ]\n",
    "    \n",
    ")\n",
    "    "
   ]
  },
  {
   "cell_type": "code",
   "execution_count": null,
   "id": "4be9507e-7f19-4ccf-9feb-25b8b214b562",
   "metadata": {},
   "outputs": [],
   "source": [
    "for r in responses:\n",
    "    #print(r)\n",
    "    print(r.metadata['Summary'],' | ', r.page_content, '\\n')"
   ]
  },
  {
   "cell_type": "code",
   "execution_count": null,
   "id": "fbb5aafe-d551-4cd8-9f1a-803f6fd29133",
   "metadata": {},
   "outputs": [],
   "source": []
  }
 ],
 "metadata": {
  "kernelspec": {
   "display_name": "Python 3 (ipykernel)",
   "language": "python",
   "name": "python3"
  },
  "language_info": {
   "codemirror_mode": {
    "name": "ipython",
    "version": 3
   },
   "file_extension": ".py",
   "mimetype": "text/x-python",
   "name": "python",
   "nbconvert_exporter": "python",
   "pygments_lexer": "ipython3",
   "version": "3.11.3"
  }
 },
 "nbformat": 4,
 "nbformat_minor": 5
}
